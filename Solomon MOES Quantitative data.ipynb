{
 "cells": [
  {
   "cell_type": "markdown",
   "metadata": {},
   "source": [
    "# Analysis of Solomon 8.15.18 MOES Quantitative Data Final\n",
    "A lot of code, Curtis, and not particularly useful to you, I'm sure."
   ]
  },
  {
   "cell_type": "markdown",
   "metadata": {},
   "source": [
    "## Class panda_reader()\n",
    "## Utility class to get a panda df from Excel"
   ]
  },
  {
   "cell_type": "code",
   "execution_count": 1,
   "metadata": {},
   "outputs": [],
   "source": [
    "import pandas as pd\n",
    "import numpy as np\n",
    "import unittest\n",
    "import logging\n",
    "import os.path\n",
    "from pandas.util.testing import assert_frame_equal\n",
    "logging.basicConfig(level=logging.INFO)\n",
    "logger = logging.getLogger(__name__)\n",
    "\n",
    "class panda_reader():\n",
    "    filename = None\n",
    "    worksheetname = None\n",
    "    df = None\n",
    "    \n",
    "\n",
    "    # Getters and setters for filename, worksheetname, and df\n",
    "    def getFilename(self):\n",
    "        if self.filename is None:\n",
    "            logger.info('filename is not yet set!!')\n",
    "            return None\n",
    "        else:\n",
    "            logger.debug('About to return current filename, which is: ' + self.filename)\n",
    "        \n",
    "        return self.filename\n",
    "        \n",
    "    # Setter for filename. Returns True if the file was found, False otherwise. \n",
    "    # Results can be disregarded if you are writing the file. \n",
    "    def setFilename(self, fn):\n",
    "        logger.debug('About to set filename to: ' + fn)\n",
    "        self.filename = fn\n",
    "        if not os.path.isfile(fn):\n",
    "            logger.warning('Cannot find file ' + fn)\n",
    "            return False\n",
    "        return True\n",
    "\n",
    "        \n",
    "    def getWorksheetName(self):\n",
    "        return self.worksheetname\n",
    "    \n",
    "    def setWorksheetName(self, wks):\n",
    "        logger.debug('About to set worksheet to: ' + wks)\n",
    "        self.worksheetname = wks\n",
    "        \n",
    "    def getDf(self):\n",
    "        return self.df\n",
    "\n",
    "    # Return a tiny test dataframe\n",
    "    def test_df(self):\n",
    "        data = np.array([['','Col1','Col2'],\n",
    "                         ['Row1',1,2],\n",
    "                         ['Row2',3,4]])\n",
    "                \n",
    "        return (pd.DataFrame(data=data[1:,1:], index=data[1:,0], columns=data[0,1:]))\n",
    "    \n",
    "    # Write the given df to the excelFileName and excelWorksheet (unless they have already been \n",
    "    # provided and are then optional.)\n",
    "    def write_df_to_excel(self, df=None, excelFileName=None, excelWorksheet=None):\n",
    "        # Use df (passed param) if it's set, self.df otherwise.\n",
    "        if df is None:\n",
    "            mydf = self.df\n",
    "        else:\n",
    "            mydf = df\n",
    "        fn  = excelFileName or self.filename # If excelFileName is set, then use it. If None, then use self.filename.\n",
    "        wks = excelWorksheet or self.worksheetname # Use the passed excelWorksheet, if available. \n",
    "        self.setFilename(fn)\n",
    "        self.setWorksheetName(wks)\n",
    "        writer = pd.ExcelWriter(fn)\n",
    "        mydf.to_excel(writer, wks)\n",
    "        writer.save()\n",
    "        \n",
    "    # Read the given excelFileName and excelWorksheet (unless they have already been \n",
    "    # provided and are then optional.) return the df in the given worksheet. \n",
    "    def read_df_from_excel(self, excelFileName=None, excelWorksheet=None, header=0):\n",
    "        logger.debug(\"Starting read_df_from_excel\")\n",
    "        fn = excelFileName or self.filename\n",
    "        fileFound = self.setFilename(fn)\n",
    "        logger.debug(\"Will read from the Excel file: \" + fn)\n",
    "        if fileFound:\n",
    "            wks = excelWorksheet or self.worksheetname\n",
    "            self.setWorksheetName(excelWorksheet)\n",
    "            logger.debug(\"Will read from the worksheet: \" + wks)\n",
    "            self.df = pd.read_excel(fn, sheet_name=wks, header=header)\n",
    "\n",
    "            return self.df\n",
    "        else:\n",
    "            logger.error(\"Can't find Excel file: \" + fn)\n",
    "            return None\n",
    "        \n",
    "    # Get a list of the headers\n",
    "    def get_df_headers(self):\n",
    "        if self.df is not None:\n",
    "            return self.df.columns.tolist()\n",
    "        else:\n",
    "            logger.error(\"df is empty. Returning None for headers.\")\n",
    "            return None\n",
    "    \n",
    "    def get_rowCount_colCount(self, df, dfName=None):\n",
    "        \"\"\"\n",
    "        return the row and column count of df.\n",
    "        \"\"\"\n",
    "        dfStr = dfName or '<not given>'\n",
    "        rows, cols = df.shape\n",
    "        logger.info('df with the name %s has %d rows and %d columns.' % (dfStr, rows, cols))\n",
    "        return rows, cols\n"
   ]
  },
  {
   "cell_type": "markdown",
   "metadata": {},
   "source": [
    "# stats\n",
    "### Utility class to plot and get basic statistics"
   ]
  },
  {
   "cell_type": "code",
   "execution_count": 2,
   "metadata": {},
   "outputs": [],
   "source": [
    "import seaborn as sns\n",
    "from scipy.stats import linregress\n",
    "\n",
    "class stats():\n",
    "    def plot_and_stats(self, df, xlabel, ylabel, color='r'):\n",
    "        sns.regplot(x=xlabel, y=ylabel, data=df, robust=True, color=color, x_jitter=1.0, y_jitter=1.0)\n",
    "\n",
    "        slope, intercept, r, p, epsilon = linregress(df[xlabel], df[ylabel])\n",
    "        logger.info('Main equation: y = %.3f x + %.3f' % (slope, intercept))\n",
    "        logger.info('r^2 = %.4f' % (r * r))\n",
    "        logger.info('p = %.4f' % (p))\n",
    "        logger.info('std err: %.4f' % (epsilon))\n"
   ]
  },
  {
   "cell_type": "markdown",
   "metadata": {},
   "source": [
    "# Main routine to read MOES spreadsheet"
   ]
  },
  {
   "cell_type": "code",
   "execution_count": 3,
   "metadata": {},
   "outputs": [
    {
     "name": "stderr",
     "output_type": "stream",
     "text": [
      "INFO:__main__:Starting main\n",
      "C:\\Users\\Owner\\Anaconda2\\lib\\site-packages\\pandas\\core\\frame.py:2540: SettingWithCopyWarning: \n",
      "A value is trying to be set on a copy of a slice from a DataFrame.\n",
      "Try using .loc[row_indexer,col_indexer] = value instead\n",
      "\n",
      "See the caveats in the documentation: http://pandas.pydata.org/pandas-docs/stable/indexing.html#indexing-view-versus-copy\n",
      "  self[k1] = value[k2]\n",
      "C:\\Users\\Owner\\Anaconda2\\lib\\site-packages\\ipykernel_launcher.py:36: SettingWithCopyWarning: \n",
      "A value is trying to be set on a copy of a slice from a DataFrame\n",
      "\n",
      "See the caveats in the documentation: http://pandas.pydata.org/pandas-docs/stable/indexing.html#indexing-view-versus-copy\n"
     ]
    }
   ],
   "source": [
    "\n",
    "import logging\n",
    "import os.path\n",
    "import numpy as np\n",
    "import pandas as pd\n",
    "\n",
    "logging.basicConfig(level=logging.DEBUG)\n",
    "logger = logging.getLogger(__name__)\n",
    "\n",
    "fn = 'MOES_Quantitative_Data_Final_25Aug18.xlsx'\n",
    "\n",
    "def remove_df_headers(df, rows_to_remove=1):\n",
    "    return df.iloc[rows_to_remove:] # get rid of verbose headers (usually in row 2 of the Excel worksheet)\n",
    "    \n",
    "\n",
    "def massage_df(df, headers):\n",
    "    ansDf =  remove_df_headers(df)\n",
    "#    ansDf[['X1', 'X2']] = ansDf[['X1', 'X2']].apply(pd.to_numeric())\n",
    "    non_numeric_cols_to_remove = ['Participant', 'date_survey_taken', 'Gender', 'Age', 'Ethnicity', 'Education', 'Branch', 'Campaigns']\n",
    "    for col in non_numeric_cols_to_remove:\n",
    "        headers.remove(col)\n",
    "    ansDf[headers] = ansDf[headers].apply(pd.to_numeric, errors='coerce')\n",
    "\n",
    "    return ansDf\n",
    "\n",
    "if __name__ == '__main__':\n",
    "    logger.info('Starting main')\n",
    "    my_lib = panda_reader()\n",
    "    if my_lib.setFilename(fn):\n",
    "        logger.debug('Found the file')\n",
    "    else:\n",
    "        logger.debug('did not find the file')\n",
    "    raw_df = my_lib.read_df_from_excel(excelFileName=fn, excelWorksheet='Minus Partial Completions')\n",
    "    df = massage_df(raw_df, my_lib.get_df_headers())\n",
    "    \n",
    "    df.dropna(inplace=True) # Gets rid of NaN\n",
    "    logger.debug('Spreadsheet read in.')\n"
   ]
  },
  {
   "cell_type": "markdown",
   "metadata": {},
   "source": [
    "# First five lines of data"
   ]
  },
  {
   "cell_type": "code",
   "execution_count": 4,
   "metadata": {},
   "outputs": [
    {
     "data": {
      "text/html": [
       "<div>\n",
       "<style scoped>\n",
       "    .dataframe tbody tr th:only-of-type {\n",
       "        vertical-align: middle;\n",
       "    }\n",
       "\n",
       "    .dataframe tbody tr th {\n",
       "        vertical-align: top;\n",
       "    }\n",
       "\n",
       "    .dataframe thead th {\n",
       "        text-align: right;\n",
       "    }\n",
       "</style>\n",
       "<table border=\"1\" class=\"dataframe\">\n",
       "  <thead>\n",
       "    <tr style=\"text-align: right;\">\n",
       "      <th></th>\n",
       "      <th>index</th>\n",
       "      <th>Participant</th>\n",
       "      <th>date_survey_taken</th>\n",
       "      <th>date_between_survey</th>\n",
       "      <th>page1</th>\n",
       "      <th>page2</th>\n",
       "      <th>page3</th>\n",
       "      <th>X1</th>\n",
       "      <th>X2</th>\n",
       "      <th>X3</th>\n",
       "      <th>...</th>\n",
       "      <th>Y10</th>\n",
       "      <th>Y</th>\n",
       "      <th>delta_Y</th>\n",
       "      <th>Gender</th>\n",
       "      <th>Age</th>\n",
       "      <th>decade_age</th>\n",
       "      <th>Ethnicity</th>\n",
       "      <th>Education</th>\n",
       "      <th>Branch</th>\n",
       "      <th>Campaigns</th>\n",
       "    </tr>\n",
       "  </thead>\n",
       "  <tbody>\n",
       "    <tr>\n",
       "      <th>1</th>\n",
       "      <td>0.0</td>\n",
       "      <td>3e6038ab-3ce6-4cf3-bcef-3fcd71a38712</td>\n",
       "      <td>2016-04-23 18:32:00</td>\n",
       "      <td>184.812500</td>\n",
       "      <td>125.588549</td>\n",
       "      <td>74.088909</td>\n",
       "      <td>71.542415</td>\n",
       "      <td>2.0</td>\n",
       "      <td>2.0</td>\n",
       "      <td>3.0</td>\n",
       "      <td>...</td>\n",
       "      <td>3.0</td>\n",
       "      <td>35</td>\n",
       "      <td>1.0</td>\n",
       "      <td>Male</td>\n",
       "      <td>65-74 years old</td>\n",
       "      <td>6.0</td>\n",
       "      <td>White</td>\n",
       "      <td>Some college credit, no degree</td>\n",
       "      <td>Army</td>\n",
       "      <td>,,,Vietnam,,</td>\n",
       "    </tr>\n",
       "    <tr>\n",
       "      <th>3</th>\n",
       "      <td>2.0</td>\n",
       "      <td>6303bc10-ff60-48a1-81a9-be8b37ea7fcd</td>\n",
       "      <td>2016-05-14 21:47:00</td>\n",
       "      <td>188.180556</td>\n",
       "      <td>160.135799</td>\n",
       "      <td>47.026560</td>\n",
       "      <td>34.229927</td>\n",
       "      <td>2.0</td>\n",
       "      <td>0.0</td>\n",
       "      <td>0.0</td>\n",
       "      <td>...</td>\n",
       "      <td>4.0</td>\n",
       "      <td>39</td>\n",
       "      <td>0.0</td>\n",
       "      <td>Male</td>\n",
       "      <td>25-34 years old</td>\n",
       "      <td>2.0</td>\n",
       "      <td>White</td>\n",
       "      <td>Some college credit, no degree</td>\n",
       "      <td>Marine Corps</td>\n",
       "      <td>OperationEnduringFreedom,OperationIraqiFreedom...</td>\n",
       "    </tr>\n",
       "    <tr>\n",
       "      <th>5</th>\n",
       "      <td>4.0</td>\n",
       "      <td>49694f11-0d24-4bd6-aa96-43a5c7872262</td>\n",
       "      <td>2016-05-15 07:56:00</td>\n",
       "      <td>197.400000</td>\n",
       "      <td>251.571578</td>\n",
       "      <td>130.025017</td>\n",
       "      <td>127.525612</td>\n",
       "      <td>3.0</td>\n",
       "      <td>3.0</td>\n",
       "      <td>1.0</td>\n",
       "      <td>...</td>\n",
       "      <td>3.0</td>\n",
       "      <td>31</td>\n",
       "      <td>4.0</td>\n",
       "      <td>Male</td>\n",
       "      <td>25-34 years old</td>\n",
       "      <td>2.0</td>\n",
       "      <td>Hispanic or Latino</td>\n",
       "      <td>Some college credit, no degree</td>\n",
       "      <td>Marine Corps</td>\n",
       "      <td>,OperationIraqiFreedom,,,,</td>\n",
       "    </tr>\n",
       "    <tr>\n",
       "      <th>7</th>\n",
       "      <td>6.0</td>\n",
       "      <td>1639567d-947e-4c3b-89dd-c801bf39a0ab</td>\n",
       "      <td>2016-06-07 22:17:00</td>\n",
       "      <td>224.729167</td>\n",
       "      <td>199.842927</td>\n",
       "      <td>82.874621</td>\n",
       "      <td>42.343850</td>\n",
       "      <td>3.0</td>\n",
       "      <td>3.0</td>\n",
       "      <td>3.0</td>\n",
       "      <td>...</td>\n",
       "      <td>1.0</td>\n",
       "      <td>10</td>\n",
       "      <td>0.0</td>\n",
       "      <td>Male</td>\n",
       "      <td>45-54 years old</td>\n",
       "      <td>4.0</td>\n",
       "      <td>Hispanic or Latino</td>\n",
       "      <td>Associate degree</td>\n",
       "      <td>Army</td>\n",
       "      <td>OperationEnduringFreedom,,DesertStorm,,,</td>\n",
       "    </tr>\n",
       "    <tr>\n",
       "      <th>9</th>\n",
       "      <td>8.0</td>\n",
       "      <td>e4f6fd3e-3fde-441d-bd20-ac32c1638035</td>\n",
       "      <td>2016-06-09 06:43:00</td>\n",
       "      <td>197.159722</td>\n",
       "      <td>439.121549</td>\n",
       "      <td>61.728797</td>\n",
       "      <td>45.962699</td>\n",
       "      <td>1.0</td>\n",
       "      <td>1.0</td>\n",
       "      <td>1.0</td>\n",
       "      <td>...</td>\n",
       "      <td>3.0</td>\n",
       "      <td>36</td>\n",
       "      <td>4.0</td>\n",
       "      <td>Male</td>\n",
       "      <td>35-44 years old</td>\n",
       "      <td>3.0</td>\n",
       "      <td>White</td>\n",
       "      <td>Some college credit, no degree</td>\n",
       "      <td>Army</td>\n",
       "      <td>OperationEnduringFreedom,OperationIraqiFreedom...</td>\n",
       "    </tr>\n",
       "  </tbody>\n",
       "</table>\n",
       "<p>5 rows × 48 columns</p>\n",
       "</div>"
      ],
      "text/plain": [
       "   index                           Participant    date_survey_taken  \\\n",
       "1    0.0  3e6038ab-3ce6-4cf3-bcef-3fcd71a38712  2016-04-23 18:32:00   \n",
       "3    2.0  6303bc10-ff60-48a1-81a9-be8b37ea7fcd  2016-05-14 21:47:00   \n",
       "5    4.0  49694f11-0d24-4bd6-aa96-43a5c7872262  2016-05-15 07:56:00   \n",
       "7    6.0  1639567d-947e-4c3b-89dd-c801bf39a0ab  2016-06-07 22:17:00   \n",
       "9    8.0  e4f6fd3e-3fde-441d-bd20-ac32c1638035  2016-06-09 06:43:00   \n",
       "\n",
       "   date_between_survey       page1       page2       page3   X1   X2   X3  \\\n",
       "1           184.812500  125.588549   74.088909   71.542415  2.0  2.0  3.0   \n",
       "3           188.180556  160.135799   47.026560   34.229927  2.0  0.0  0.0   \n",
       "5           197.400000  251.571578  130.025017  127.525612  3.0  3.0  1.0   \n",
       "7           224.729167  199.842927   82.874621   42.343850  3.0  3.0  3.0   \n",
       "9           197.159722  439.121549   61.728797   45.962699  1.0  1.0  1.0   \n",
       "\n",
       "                         ...                          Y10   Y  delta_Y  \\\n",
       "1                        ...                          3.0  35      1.0   \n",
       "3                        ...                          4.0  39      0.0   \n",
       "5                        ...                          3.0  31      4.0   \n",
       "7                        ...                          1.0  10      0.0   \n",
       "9                        ...                          3.0  36      4.0   \n",
       "\n",
       "   Gender              Age  decade_age           Ethnicity  \\\n",
       "1    Male  65-74 years old         6.0               White   \n",
       "3    Male  25-34 years old         2.0               White   \n",
       "5    Male  25-34 years old         2.0  Hispanic or Latino   \n",
       "7    Male  45-54 years old         4.0  Hispanic or Latino   \n",
       "9    Male  35-44 years old         3.0               White   \n",
       "\n",
       "                        Education        Branch  \\\n",
       "1  Some college credit, no degree          Army   \n",
       "3  Some college credit, no degree  Marine Corps   \n",
       "5  Some college credit, no degree  Marine Corps   \n",
       "7                Associate degree          Army   \n",
       "9  Some college credit, no degree          Army   \n",
       "\n",
       "                                           Campaigns  \n",
       "1                                       ,,,Vietnam,,  \n",
       "3  OperationEnduringFreedom,OperationIraqiFreedom...  \n",
       "5                         ,OperationIraqiFreedom,,,,  \n",
       "7           OperationEnduringFreedom,,DesertStorm,,,  \n",
       "9  OperationEnduringFreedom,OperationIraqiFreedom...  \n",
       "\n",
       "[5 rows x 48 columns]"
      ]
     },
     "execution_count": 4,
     "metadata": {},
     "output_type": "execute_result"
    }
   ],
   "source": [
    "df.head(5)"
   ]
  },
  {
   "cell_type": "markdown",
   "metadata": {},
   "source": [
    "## First graph: Change in PTSD markers\n",
    "(Note: this was an early effort and shouldn't be used for publication.)"
   ]
  },
  {
   "cell_type": "code",
   "execution_count": 5,
   "metadata": {},
   "outputs": [
    {
     "name": "stderr",
     "output_type": "stream",
     "text": [
      "INFO:__main__:X=change in PTSD; Y=change in faith. n=48\n"
     ]
    },
    {
     "data": {
      "text/plain": [
       "<matplotlib.axes._subplots.AxesSubplot at 0xbefb390>"
      ]
     },
     "execution_count": 5,
     "metadata": {},
     "output_type": "execute_result"
    },
    {
     "data": {
      "image/png": "[encoded data removed]",
      "text/plain": [
       "<matplotlib.figure.Figure at 0x6fd8128>"
      ]
     },
     "metadata": {},
     "output_type": "display_data"
    }
   ],
   "source": [
    "# df.dtypes\n",
    "logger.info('X=change in PTSD; Y=change in faith. n=' + str(df.shape[1]))\n",
    "df.plot.scatter(x='delta_X', y='delta_Y', c='DarkBlue')\n"
   ]
  },
  {
   "cell_type": "markdown",
   "metadata": {},
   "source": [
    "## Aggregate changes\n",
    "Independent (x) axis is change in PTSD. An aggregate drop of 5-10 points is reliable (not due to chance). An aggregate drop of 10-20 is clinically meaningful. (Monson et al., 2008).\n",
    "Dependent (y) axis is change in faith. \n",
    "#### We will choose a significance level of 0.05; that is, $\\alpha=0.05$.\n",
    "Note: this one counts a 0 as an actual response, instead of a non-response. It has a very high p-value (third line in pink rectangle of text, below, p = 0.9103). It should not be used in publication. (Some of science is learning what doesn't work.)"
   ]
  },
  {
   "cell_type": "code",
   "execution_count": 6,
   "metadata": {
    "scrolled": true
   },
   "outputs": [
    {
     "name": "stderr",
     "output_type": "stream",
     "text": [
      "INFO:__main__:Main equation: y = -0.010 x + 1.996\n",
      "INFO:__main__:r^2 = 0.0003\n",
      "INFO:__main__:p = 0.9103\n",
      "INFO:__main__:std err: 0.0845\n"
     ]
    },
    {
     "data": {
      "image/png": "[encoded data removed]",
      "text/plain": [
       "<matplotlib.figure.Figure at 0xc270a90>"
      ]
     },
     "metadata": {},
     "output_type": "display_data"
    }
   ],
   "source": [
    "stat = stats()\n",
    "stat.plot_and_stats(df=df, xlabel='delta_X', ylabel='delta_Y', color='g')"
   ]
  },
  {
   "cell_type": "markdown",
   "metadata": {},
   "source": [
    "# In the survey, a 0 means \"no answer\"\n",
    "The scale is 1-4, with 0 meaning \"no answer.\"\n",
    "This may explain some of the very negative deltas.\n",
    "<br>\n",
    "The code below does some adjustment to the zeroes. See adjust_zero to understand what's going on. \n",
    "\n",
    "## select\n",
    "This routine is like a select statement for dataframes. \n",
    "## adjust_zero\n",
    "### Overview\n",
    "This routine replaces 0 answers in the DF with the previous answer.\n",
    "### One response > 0, other = 0\n",
    "If the respondent had a 1 for first response of \"Repeated, disturbing dreams of the stressful experience?\" and a 0 for the second, the second will be changed to a 1.\n",
    "This will create a net change of 0 for the response.\n",
    "### Both responses 0\n",
    "If the responded had a 0 for both responses of \"I pray daily\" then an average of the non-zero responses for the first response will be calculated. The first and second will be set to that average.\n",
    "This will also create a net change of 0 for the response.\n",
    "\n",
    "## adjust_sum\n",
    "This routine adjusts the sums for the Xs or Ys after adjust_zero has been executed on both vectors.\n",
    "\n",
    "## adjust_delta\n",
    "This routine calculates a new delta_X and delta_Y.\n",
    "\n"
   ]
  },
  {
   "cell_type": "code",
   "execution_count": 7,
   "metadata": {},
   "outputs": [],
   "source": [
    "def XYnGen(label='X', start=1, end=20):\n",
    "    # Generator like X1 through X20\n",
    "    for x in range (start, end+1):\n",
    "        yield '%s%d' % (label, x)\n",
    "\n",
    "    \n",
    "def select(df, columnName, matchMe):\n",
    "    return df.loc[df[columnName] == matchMe]\n",
    "\n",
    "def non_zero_avg(df, rowIndex, headers):\n",
    "    logger.debug('Examining row %d' % rowIndex)\n",
    "    \n",
    "    row = df.iloc[rowIndex]\n",
    "    df1 = row[headers]\n",
    "    vector_sum = df1.sum()\n",
    "    values = df1.tolist()\n",
    "    logger.debug('values: ' + str(values))\n",
    "    zero_count = values.count(0)\n",
    "    avg = (vector_sum * 1.0) / (len(df1) - zero_count) # note if no 0s, will compute average from all\n",
    "    logger.debug('Zero count: %d. Average=%f' % (zero_count, avg))\n",
    "    return avg\n",
    "\n",
    "def adjust_rows(df, row1index, row2index, nonZeroAvg, headers):\n",
    "    logger.debug('Starting adjust_rows; comparing rows %d and %d.' % (row1index, row2index))\n",
    "    row1 = df.iloc[row1index]\n",
    "    row2 = df.iloc[row2index]\n",
    "    for header in headers:\n",
    "        cell1 = row1[header]\n",
    "        cell2 = row2[header]\n",
    "        logger.debug('comparing header %s with values %d and %d.' % (header, cell1, cell2))\n",
    "        if (cell1 != 0) & (cell2 != 0):\n",
    "            pass # neither is 0.\n",
    "        elif (cell1 == 0) & (cell2 == 0):\n",
    "            logger.debug('Setting both values to %f.' % nonZeroAvg)\n",
    "            rowsToChange = [row1index, row2index]\n",
    "            df.loc[rowsToChange, header] = nonZeroAvg\n",
    "        elif (cell1 == 0):\n",
    "            logger.debug('Setting row %d to %d.' % (row1index, cell2))\n",
    "            df.loc[row1index, header] = cell2\n",
    "        else:\n",
    "            logger.debug('Setting row %d to %d.' % (row2index, cell1))\n",
    "            df.loc[row2index, header] = cell1\n",
    "            \n",
    "def adjust_sum(df, rowIndex, sumLabel, headers):\n",
    "    logger.debug('Starting adjust_sum for rows %d.' % rowIndex)\n",
    "    row = df.iloc[rowIndex]\n",
    "    s = row[headers].sum()\n",
    "    df.loc[rowIndex, sumLabel] = s\n",
    "    logger.debug('Exiting adjust_sum with a sum of %f.' % s)\n",
    "    return s\n",
    "\n",
    "def adjust_delta(df, row1index, row2index, sumLabel, deltaLabel):\n",
    "    df.loc[row1index, deltaLabel] = float('NaN')\n",
    "    diff= df.loc[row2index, sumLabel] - df.loc[row1index, sumLabel]\n",
    "    df.loc[row2index, deltaLabel] = diff\n",
    "    logger.debug('Exiting adjust_delta with row %d set to NaN and row %d set to %f.' % (row1index, row2index, diff))\n",
    "    \n",
    "    \n",
    "def adjust_zero(df, subsetdf):\n",
    "    logger.debug(\"Starting adjust_zero. Full set has %d rows. Subset has %d results.\" % (len(df), len(subsetdf)))\n",
    "    xgen = XYnGen('X', 1, 20) # generates 'X1' through 'X20'\n",
    "    ygen = XYnGen('Y', 1, 10) # generates 'Y1' through 'Y10'\n",
    "    row1 = subsetdf.iloc[0]\n",
    "    row2 = subsetdf.iloc[1]\n",
    "    row1index = row1['index']\n",
    "    row2index = row2['index']\n",
    "    logger.debug('Comparing rows %d and %d.' % (row1index, row2index))\n",
    "    xHeaders = list(xgen)\n",
    "    yHeaders = list(ygen)\n",
    "    nonZeroXAvg = non_zero_avg(df, row1index, xHeaders) \n",
    "    nonZeroYAvg = non_zero_avg(df, row1index, yHeaders)\n",
    "    \n",
    "    adjust_rows(df, row1index, row2index, nonZeroXAvg, xHeaders)\n",
    "    adjust_rows(df, row1index, row2index, nonZeroYAvg, yHeaders)\n",
    "    \n",
    "    adjust_sum(df, row1index, 'X', xHeaders)\n",
    "    adjust_sum(df, row2index, 'X', xHeaders)\n",
    "    adjust_sum(df, row1index, 'Y', yHeaders)\n",
    "    adjust_sum(df, row2index, 'Y', yHeaders)\n",
    "    adjust_delta(df, row1index, row2index, 'X', 'delta_X')\n",
    "    adjust_delta(df, row1index, row2index, 'Y', 'delta_Y')\n",
    "    \n",
    "    return df\n",
    "\n",
    "def process_participants(df):\n",
    "    indexColName = 'Participant'\n",
    "    participants = df.Participant.unique()\n",
    "    for participant in participants:\n",
    "        logger.debug(\"Processing participant: \" + participant)\n",
    "        results = select(df, indexColName, participant)\n",
    "        adjust_zero(df, results)\n",
    "    return\n"
   ]
  },
  {
   "cell_type": "code",
   "execution_count": 8,
   "metadata": {},
   "outputs": [
    {
     "name": "stderr",
     "output_type": "stream",
     "text": [
      "C:\\Users\\Owner\\Anaconda2\\lib\\site-packages\\ipykernel_launcher.py:3: SettingWithCopyWarning: \n",
      "A value is trying to be set on a copy of a slice from a DataFrame\n",
      "\n",
      "See the caveats in the documentation: http://pandas.pydata.org/pandas-docs/stable/indexing.html#indexing-view-versus-copy\n",
      "  This is separate from the ipykernel package so we can avoid doing imports until\n"
     ]
    },
    {
     "data": {
      "text/html": [
       "<div>\n",
       "<style scoped>\n",
       "    .dataframe tbody tr th:only-of-type {\n",
       "        vertical-align: middle;\n",
       "    }\n",
       "\n",
       "    .dataframe tbody tr th {\n",
       "        vertical-align: top;\n",
       "    }\n",
       "\n",
       "    .dataframe thead th {\n",
       "        text-align: right;\n",
       "    }\n",
       "</style>\n",
       "<table border=\"1\" class=\"dataframe\">\n",
       "  <thead>\n",
       "    <tr style=\"text-align: right;\">\n",
       "      <th></th>\n",
       "      <th>index</th>\n",
       "      <th>Participant</th>\n",
       "      <th>date_survey_taken</th>\n",
       "      <th>date_between_survey</th>\n",
       "      <th>page1</th>\n",
       "      <th>page2</th>\n",
       "      <th>page3</th>\n",
       "      <th>X1</th>\n",
       "      <th>X2</th>\n",
       "      <th>X3</th>\n",
       "      <th>...</th>\n",
       "      <th>Y10</th>\n",
       "      <th>Y</th>\n",
       "      <th>delta_Y</th>\n",
       "      <th>Gender</th>\n",
       "      <th>Age</th>\n",
       "      <th>decade_age</th>\n",
       "      <th>Ethnicity</th>\n",
       "      <th>Education</th>\n",
       "      <th>Branch</th>\n",
       "      <th>Campaigns</th>\n",
       "    </tr>\n",
       "  </thead>\n",
       "  <tbody>\n",
       "    <tr>\n",
       "      <th>0</th>\n",
       "      <td>0</td>\n",
       "      <td>3e6038ab-3ce6-4cf3-bcef-3fcd71a38712</td>\n",
       "      <td>2016-04-23 18:32:00</td>\n",
       "      <td>184.812</td>\n",
       "      <td>125.589</td>\n",
       "      <td>74.0889</td>\n",
       "      <td>71.5424</td>\n",
       "      <td>2.0</td>\n",
       "      <td>2</td>\n",
       "      <td>3.000000</td>\n",
       "      <td>...</td>\n",
       "      <td>3</td>\n",
       "      <td>35</td>\n",
       "      <td>NaN</td>\n",
       "      <td>Male</td>\n",
       "      <td>65-74 years old</td>\n",
       "      <td>6.0</td>\n",
       "      <td>White</td>\n",
       "      <td>Some college credit, no degree</td>\n",
       "      <td>Army</td>\n",
       "      <td>,,,Vietnam,,</td>\n",
       "    </tr>\n",
       "    <tr>\n",
       "      <th>1</th>\n",
       "      <td>1</td>\n",
       "      <td>3e6038ab-3ce6-4cf3-bcef-3fcd71a38712</td>\n",
       "      <td>2016-10-25 14:02:00</td>\n",
       "      <td>NaN</td>\n",
       "      <td>92.011</td>\n",
       "      <td>56.183</td>\n",
       "      <td>45.9487</td>\n",
       "      <td>1.0</td>\n",
       "      <td>2</td>\n",
       "      <td>3.000000</td>\n",
       "      <td>...</td>\n",
       "      <td>4</td>\n",
       "      <td>36</td>\n",
       "      <td>1.0</td>\n",
       "      <td>Male</td>\n",
       "      <td>65-74 years old</td>\n",
       "      <td>6.0</td>\n",
       "      <td>White</td>\n",
       "      <td>Some college credit, no degree</td>\n",
       "      <td>Army</td>\n",
       "      <td>,,,Vietnam,,</td>\n",
       "    </tr>\n",
       "    <tr>\n",
       "      <th>2</th>\n",
       "      <td>2</td>\n",
       "      <td>6303bc10-ff60-48a1-81a9-be8b37ea7fcd</td>\n",
       "      <td>2016-05-14 21:47:00</td>\n",
       "      <td>188.181</td>\n",
       "      <td>160.136</td>\n",
       "      <td>47.0266</td>\n",
       "      <td>34.2299</td>\n",
       "      <td>2.0</td>\n",
       "      <td>3.05882</td>\n",
       "      <td>3.058824</td>\n",
       "      <td>...</td>\n",
       "      <td>4</td>\n",
       "      <td>39</td>\n",
       "      <td>NaN</td>\n",
       "      <td>Male</td>\n",
       "      <td>25-34 years old</td>\n",
       "      <td>2.0</td>\n",
       "      <td>White</td>\n",
       "      <td>Some college credit, no degree</td>\n",
       "      <td>Marine Corps</td>\n",
       "      <td>OperationEnduringFreedom,OperationIraqiFreedom...</td>\n",
       "    </tr>\n",
       "    <tr>\n",
       "      <th>3</th>\n",
       "      <td>3</td>\n",
       "      <td>6303bc10-ff60-48a1-81a9-be8b37ea7fcd</td>\n",
       "      <td>2016-11-19 02:07:00</td>\n",
       "      <td>NaN</td>\n",
       "      <td>249.503</td>\n",
       "      <td>80.6912</td>\n",
       "      <td>66.1119</td>\n",
       "      <td>1.0</td>\n",
       "      <td>3.05882</td>\n",
       "      <td>3.058824</td>\n",
       "      <td>...</td>\n",
       "      <td>4</td>\n",
       "      <td>39</td>\n",
       "      <td>0.0</td>\n",
       "      <td>Male</td>\n",
       "      <td>25-34 years old</td>\n",
       "      <td>2.0</td>\n",
       "      <td>White</td>\n",
       "      <td>Some college credit, no degree</td>\n",
       "      <td>Marine Corps</td>\n",
       "      <td>OperationEnduringFreedom,OperationIraqiFreedom...</td>\n",
       "    </tr>\n",
       "    <tr>\n",
       "      <th>4</th>\n",
       "      <td>4</td>\n",
       "      <td>49694f11-0d24-4bd6-aa96-43a5c7872262</td>\n",
       "      <td>2016-05-15 07:56:00</td>\n",
       "      <td>197.4</td>\n",
       "      <td>251.572</td>\n",
       "      <td>130.025</td>\n",
       "      <td>127.526</td>\n",
       "      <td>3.0</td>\n",
       "      <td>3</td>\n",
       "      <td>1.000000</td>\n",
       "      <td>...</td>\n",
       "      <td>3</td>\n",
       "      <td>31</td>\n",
       "      <td>NaN</td>\n",
       "      <td>Male</td>\n",
       "      <td>25-34 years old</td>\n",
       "      <td>2.0</td>\n",
       "      <td>Hispanic or Latino</td>\n",
       "      <td>Some college credit, no degree</td>\n",
       "      <td>Marine Corps</td>\n",
       "      <td>,OperationIraqiFreedom,,,,</td>\n",
       "    </tr>\n",
       "  </tbody>\n",
       "</table>\n",
       "<p>5 rows × 48 columns</p>\n",
       "</div>"
      ],
      "text/plain": [
       "  index                           Participant    date_survey_taken  \\\n",
       "0     0  3e6038ab-3ce6-4cf3-bcef-3fcd71a38712  2016-04-23 18:32:00   \n",
       "1     1  3e6038ab-3ce6-4cf3-bcef-3fcd71a38712  2016-10-25 14:02:00   \n",
       "2     2  6303bc10-ff60-48a1-81a9-be8b37ea7fcd  2016-05-14 21:47:00   \n",
       "3     3  6303bc10-ff60-48a1-81a9-be8b37ea7fcd  2016-11-19 02:07:00   \n",
       "4     4  49694f11-0d24-4bd6-aa96-43a5c7872262  2016-05-15 07:56:00   \n",
       "\n",
       "  date_between_survey    page1    page2    page3   X1       X2        X3  \\\n",
       "0             184.812  125.589  74.0889  71.5424  2.0        2  3.000000   \n",
       "1                 NaN   92.011   56.183  45.9487  1.0        2  3.000000   \n",
       "2             188.181  160.136  47.0266  34.2299  2.0  3.05882  3.058824   \n",
       "3                 NaN  249.503  80.6912  66.1119  1.0  3.05882  3.058824   \n",
       "4               197.4  251.572  130.025  127.526  3.0        3  1.000000   \n",
       "\n",
       "                         ...                          Y10   Y  delta_Y  \\\n",
       "0                        ...                            3  35      NaN   \n",
       "1                        ...                            4  36      1.0   \n",
       "2                        ...                            4  39      NaN   \n",
       "3                        ...                            4  39      0.0   \n",
       "4                        ...                            3  31      NaN   \n",
       "\n",
       "   Gender              Age  decade_age           Ethnicity  \\\n",
       "0    Male  65-74 years old         6.0               White   \n",
       "1    Male  65-74 years old         6.0               White   \n",
       "2    Male  25-34 years old         2.0               White   \n",
       "3    Male  25-34 years old         2.0               White   \n",
       "4    Male  25-34 years old         2.0  Hispanic or Latino   \n",
       "\n",
       "                        Education        Branch  \\\n",
       "0  Some college credit, no degree          Army   \n",
       "1  Some college credit, no degree          Army   \n",
       "2  Some college credit, no degree  Marine Corps   \n",
       "3  Some college credit, no degree  Marine Corps   \n",
       "4  Some college credit, no degree  Marine Corps   \n",
       "\n",
       "                                           Campaigns  \n",
       "0                                       ,,,Vietnam,,  \n",
       "1                                       ,,,Vietnam,,  \n",
       "2  OperationEnduringFreedom,OperationIraqiFreedom...  \n",
       "3  OperationEnduringFreedom,OperationIraqiFreedom...  \n",
       "4                         ,OperationIraqiFreedom,,,,  \n",
       "\n",
       "[5 rows x 48 columns]"
      ]
     },
     "execution_count": 8,
     "metadata": {},
     "output_type": "execute_result"
    }
   ],
   "source": [
    "df = remove_df_headers(raw_df, 1)\n",
    "df.set_index('index') # Set the index \n",
    "df.dropna(axis=0, subset=['index'], inplace=True)\n",
    "df = df.reset_index(drop=True)\n",
    "process_participants(df)\n",
    "df.head()"
   ]
  },
  {
   "cell_type": "markdown",
   "metadata": {},
   "source": [
    "# Results after adjusting for 0 (no response)\n",
    "#### Independent (x) axis is change in PTSD. An aggregate drop of 5-10 points is reliable (not due to chance). An aggregate drop of 10-20 is clinically meaningful. (Monson et al., 2008).\n",
    "#### Dependent (y) axis is change in faith. \n"
   ]
  },
  {
   "cell_type": "code",
   "execution_count": 9,
   "metadata": {},
   "outputs": [
    {
     "name": "stderr",
     "output_type": "stream",
     "text": [
      "INFO:__main__:X=change in PTSD; Y=change in faith. n=48\n",
      "INFO:__main__:Main equation: y = -0.277 x + 0.487\n",
      "INFO:__main__:r^2 = 0.1308\n",
      "INFO:__main__:p = 0.0147\n",
      "INFO:__main__:std err: 0.1088\n"
     ]
    },
    {
     "data": {
      "image/png": "[encoded data removed]",
      "text/plain": [
       "<matplotlib.figure.Figure at 0xc73d240>"
      ]
     },
     "metadata": {},
     "output_type": "display_data"
    }
   ],
   "source": [
    "df2 = df.dropna(axis=0, subset=['delta_X'], inplace=False) # Drop the NaN on the first row for delta_X.\n",
    "\n",
    "n = df2.shape[1]\n",
    "logger.info('X=change in PTSD; Y=change in faith. n=' + str(n))\n",
    "stat.plot_and_stats(df=df2, xlabel='delta_X', ylabel='delta_Y', color='c')"
   ]
  },
  {
   "cell_type": "markdown",
   "metadata": {},
   "source": [
    "## Analysis without zero response -- Discussion\n",
    "#### Main equation: $y = -0.277x + 0.487$\n",
    "#### $r^2 = 0.1308$\n",
    "#### $p = 0.0147$\n",
    "#### $standard error: 0.1088$\n",
    "## Observations\n",
    "$n=48$\n",
    "\n",
    "## Interpretation\n",
    "A lowering of PTSD scores is correlated with an increase in faith. For every 1 point increase in faith, an individual will enjoy a .277 point drop in PTSD scoring.\n",
    "## Statistical significance\n",
    "A p-value < 0.05 shows that the results are significant in the psychology or sociology domain."
   ]
  },
  {
   "cell_type": "markdown",
   "metadata": {},
   "source": [
    "# Breakdown of meaningful change\n",
    "## find_response_category\n",
    "Remember, meaningful changes at $\\Delta x \\leq -5$ and $\\Delta x \\leq -10$.\n",
    "\n",
    "Individual has not responded: $\\Delta x \\gt -5$\n",
    "\n",
    "Individual has responded to treatment: $\\Delta x \\leq -5$\n",
    "\n",
    "Clinically meaningful response: $\\Delta x \\leq -10$.\n"
   ]
  },
  {
   "cell_type": "code",
   "execution_count": 10,
   "metadata": {
    "scrolled": true
   },
   "outputs": [
    {
     "name": "stderr",
     "output_type": "stream",
     "text": [
      "C:\\Users\\Owner\\Anaconda2\\lib\\site-packages\\ipykernel_launcher.py:11: SettingWithCopyWarning: \n",
      "A value is trying to be set on a copy of a slice from a DataFrame.\n",
      "Try using .loc[row_indexer,col_indexer] = value instead\n",
      "\n",
      "See the caveats in the documentation: http://pandas.pydata.org/pandas-docs/stable/indexing.html#indexing-view-versus-copy\n",
      "  # This is added back by InteractiveShellApp.init_path()\n",
      "INFO:__main__:After response: df2 has 45 rows and 49 columns.\n"
     ]
    },
    {
     "name": "stdout",
     "output_type": "stream",
     "text": [
      "\"NOT responded to treatment\": 40.00 %\n",
      "\"responded to treatment\": 22.22 %\n",
      "\"responded, clinically meaningful\": 37.78 %\n"
     ]
    },
    {
     "data": {
      "image/png": "[encoded data removed]",
      "text/plain": [
       "<matplotlib.figure.Figure at 0xc71c128>"
      ]
     },
     "metadata": {},
     "output_type": "display_data"
    }
   ],
   "source": [
    "def find_response_category(deltaX):\n",
    "    logger.debug('Starting find_response_category with deltaX of: ' + str(deltaX))\n",
    "    if deltaX <= -10.0:\n",
    "        return 'responded, clinically meaningful'\n",
    "    elif deltaX <= -5.0:\n",
    "        return 'responded to treatment'\n",
    "    else:\n",
    "        return 'NOT responded to treatment'\n",
    "\n",
    "# Group by the change in deltaX\n",
    "df2['response'] = df2['delta_X'].apply(find_response_category)\n",
    "rCount, cCount = df2.shape\n",
    "logger.info('After response: df2 has %d rows and %d columns.' % (rCount, cCount))\n",
    "\n",
    "# Count the responses and display in a pie chart\n",
    "responses = df2.groupby(df2['response']).agg(['count']).iloc[:,0]\n",
    "responses.plot(kind='pie')\n",
    "\n",
    "# Print the response labels and calculate percentages.\n",
    "labels = responses.index\n",
    "counts = responses.values\n",
    "logger.debug('Calculating sizes. %d responses in df2. %d labels.' % (rCount, labels.size))\n",
    "for i in range(labels.size):\n",
    "    logger.debug('Label %s, count %d, fraction %.2f%%' % (labels[i], counts[i], rCount))\n",
    "    print ('\"%s\": %.2f %%'% (labels[i], (100.0 * counts[i]) / rCount))\n"
   ]
  },
  {
   "cell_type": "markdown",
   "metadata": {},
   "source": [
    "# Breakdown of meaningful change -- discussion\n",
    "| Response | percentage |\n",
    "| --- | --- |\n",
    "| \"NOT responded to treatment\" | 37.50% |\n",
    "| responded to treatment\" | 20.83% |\n",
    "| responded, clinically meaningful\"| 35.42% |\n",
    "\n",
    "The majority of participants 56.25% (=20.83% + 35.42%) had responded to treatment. More than a third (35.42%) had a clinically meaningful response to treatment. \n",
    "\n",
    "## How age corresonds to decade_age\n",
    "| Age | decade_age |\n",
    "| --- | --- |\n",
    "| 18-24 years old | 1 |\n",
    "| 25-34 years old | 2 |\n",
    "| 35-44 years old | 3 |\n",
    "| 45-54 years old | 4 |\n",
    "| 55-64 years old | 5 |\n",
    "| 65-74 years old | 6 |\n",
    "\n",
    "## Were there changes dependent on age?\n",
    "The code below groups the respondents by decade_age, as follows:"
   ]
  },
  {
   "cell_type": "code",
   "execution_count": 11,
   "metadata": {},
   "outputs": [
    {
     "name": "stdout",
     "output_type": "stream",
     "text": [
      "response                          decade_age\n",
      "NOT responded to treatment        1.0           1\n",
      "                                  2.0           2\n",
      "                                  3.0           6\n",
      "                                  4.0           6\n",
      "                                  5.0           3\n",
      "responded to treatment            2.0           4\n",
      "                                  3.0           3\n",
      "                                  4.0           3\n",
      "responded, clinically meaningful  1.0           1\n",
      "                                  2.0           5\n",
      "                                  3.0           8\n",
      "                                  4.0           2\n",
      "                                  6.0           1\n",
      "Name: response, dtype: int64\n",
      "decade_age  response                        \n",
      "1.0         NOT responded to treatment          1\n",
      "            responded, clinically meaningful    1\n",
      "2.0         NOT responded to treatment          2\n",
      "            responded to treatment              4\n",
      "            responded, clinically meaningful    5\n",
      "3.0         NOT responded to treatment          6\n",
      "            responded to treatment              3\n",
      "            responded, clinically meaningful    8\n",
      "4.0         NOT responded to treatment          6\n",
      "            responded to treatment              3\n",
      "            responded, clinically meaningful    2\n",
      "5.0         NOT responded to treatment          3\n",
      "6.0         responded, clinically meaningful    1\n",
      "Name: response, dtype: int64\n"
     ]
    },
    {
     "data": {
      "text/plain": [
       "<matplotlib.axes._subplots.AxesSubplot at 0xc4307b8>"
      ]
     },
     "execution_count": 11,
     "metadata": {},
     "output_type": "execute_result"
    },
    {
     "data": {
      "image/png": "[encoded data removed]",
      "text/plain": [
       "<matplotlib.figure.Figure at 0xc27d0f0>"
      ]
     },
     "metadata": {},
     "output_type": "display_data"
    }
   ],
   "source": [
    "ages = df2.groupby(['response','decade_age'])['response'].count()\n",
    "print(ages)\n",
    "\n",
    "ages2 = df2.groupby(['decade_age','response'])['response'].count()\n",
    "print(ages2)\n",
    "ages2.plot(kind='bar', stacked=True)\n",
    "# df2[['response','decade_age']].plot(kind='bar', stacked=True)\n",
    "#sns.catplot(x='response', y='decade_age', data=ages2)\n"
   ]
  },
  {
   "cell_type": "code",
   "execution_count": 12,
   "metadata": {},
   "outputs": [
    {
     "data": {
      "image/png": "[encoded data removed]",
      "text/plain": [
       "<matplotlib.figure.Figure at 0xc7318d0>"
      ]
     },
     "metadata": {},
     "output_type": "display_data"
    }
   ],
   "source": [
    "# code for bar chart modified from https://randyzwitch.com/creating-stacked-bar-chart-seaborn/\n",
    "from matplotlib import pyplot as plt\n",
    "import matplotlib as mpl\n",
    "import seaborn as sns\n",
    "%matplotlib inline\n",
    "\n",
    "ageTotals = df2.groupby(['decade_age'])['response'].count()\n",
    "logger.debug('Totals by age:')\n",
    "# print (ageTotals.head(6))\n",
    "\n",
    "responded = df2.loc[df2['response'].isin(['responded, clinically meaningful','responded to treatment'])] # subset of df2 that responded\n",
    "respondedTotals = responded.groupby(['decade_age'])['response'].count() # counts of subset\n",
    "respondedTotals.loc[5] = 0 # Had to force one value with 0 count to 0. \n",
    "# print (respondedTotals.values)\n",
    "\n",
    "#Set general plot properties\n",
    "sns.set_style(\"white\")\n",
    "sns.set_context({\"figure.figsize\": (24, 10)})\n",
    "\n",
    "#Plot 1 - background - \"total\" (top) series\n",
    "sns.barplot(x = ageTotals.index, y = ageTotals.values, color = \"red\")\n",
    "\n",
    "#Plot 2 - overlay - \"bottom\" series\n",
    "bottom_plot = sns.barplot(x = respondedTotals.index, y = respondedTotals.values, color = \"#0000A3\")\n",
    "\n",
    "topbar = plt.Rectangle((0,0),1,1,fc=\"red\", edgecolor = 'none')\n",
    "bottombar = plt.Rectangle((0,0),1,1,fc='#0000A3',  edgecolor = 'none')\n",
    "l = plt.legend([bottombar, topbar], ['responded to treatment', 'NOT responded to treatment'], loc=1, ncol = 2, prop={'size':16})\n",
    "l.draw_frame(False)\n",
    "\n",
    "#Optional code - Make plot look nicer\n",
    "sns.despine(left=True)\n",
    "bottom_plot.set_ylabel(\"count\")\n",
    "bottom_plot.set_xlabel(\"age\")\n",
    "\n",
    "#Set fonts to consistent 16pt size\n",
    "for item in ([bottom_plot.xaxis.label, bottom_plot.yaxis.label] +\n",
    "             bottom_plot.get_xticklabels() + bottom_plot.get_yticklabels()):\n",
    "    item.set_fontsize(16)\n",
    "    \n"
   ]
  },
  {
   "cell_type": "markdown",
   "metadata": {},
   "source": [
    "## Observations about age\n",
    "Those aged 25 to 34 had a responded well to treatment, proportionally speaking, at 81.8% (= 9 / 11).<br>\n",
    "Response declined in the 35 to 44 age range, at 64.7% (= 11 / 17).\n",
    "The response declined even more in the 45 to 54 age range, at 45.5% (= 5 / 11).<br>\n",
    "Those in the 55 to 64 age range did not respond to treatment (0 / 3). "
   ]
  },
  {
   "cell_type": "markdown",
   "metadata": {},
   "source": [
    "## Thoughts about initial PTSD scoring\n",
    "We were wondering whether those with high initial PTSD scores (pre-survey, before the program) might be linked to age our campaign."
   ]
  },
  {
   "cell_type": "code",
   "execution_count": 13,
   "metadata": {
    "scrolled": true
   },
   "outputs": [
    {
     "name": "stderr",
     "output_type": "stream",
     "text": [
      "INFO:__main__:Main equation: y = -4.258 x + 61.300\n",
      "INFO:__main__:r^2 = 0.1383\n",
      "INFO:__main__:p = 0.0119\n",
      "INFO:__main__:std err: 1.6208\n",
      "INFO:__main__:n = 45\n"
     ]
    },
    {
     "data": {
      "image/png": "[encoded data removed]",
      "text/plain": [
       "<matplotlib.figure.Figure at 0xc1de1d0>"
      ]
     },
     "metadata": {},
     "output_type": "display_data"
    }
   ],
   "source": [
    "# Create df3 to be the measurements pre-survey. \n",
    "df3 = df.dropna(subset=['date_between_survey']) # if date_between_survey is NaN, then it's pre-survey\n",
    "\n",
    "stat.plot_and_stats(df=df3, xlabel='decade_age', ylabel='X', color='c')\n",
    "rCount, _ = df3.shape\n",
    "logger.info('n = %d' % rCount)"
   ]
  },
  {
   "cell_type": "markdown",
   "metadata": {},
   "source": [
    "## Thoughts about initial PTSD scoring -- Discussion\n",
    "#### Main equation: $y = -4.258 x + 61.300$\n",
    "#### $r^2 = 0.1383$\n",
    "#### $p = 0.0119$\n",
    "#### $standard error: 1.6208$\n",
    "## Observations\n",
    "$n=45$\n",
    "<br>\n",
    "The dependent x-axis has the decade-age (e.g., 1=18-24, ... 5=55-64 years old). The independent y-axis shows the initial (pre-program) PTSD scoring. \n",
    "\n",
    "## Interpretation\n",
    "A higher initial PTSD scores is associated with a younger age. For every increase in decade there is a 4.258 point decrease in initial PTSD score. \n",
    "## Statistical significance\n",
    "A p-value < 0.05 shows that the results are significant in the psychology or sociology domain."
   ]
  },
  {
   "cell_type": "markdown",
   "metadata": {},
   "source": [
    "## Were the changes dependent on branch?"
   ]
  },
  {
   "cell_type": "markdown",
   "metadata": {},
   "source": [
    "## Were the changes dependent on campaign?"
   ]
  },
  {
   "cell_type": "markdown",
   "metadata": {},
   "source": [
    "# Discussion with Curtis on 15Oct18. \n",
    "### Count how many campaigns\n",
    "Enduring freedom (Afghanistan) & Iraqi freedom: Same time, different locales\n",
    "Desert storm  & Iraqi freedom: different time, same locale\n",
    "Perhaps no response for younger people because more trauma. \n",
    "\n",
    "### Count distance from end of campaign: no, because some campaigns are still active\n",
    "#### If multiple campaigns, perhaps take an average.\n",
    "\n",
    "### Could you take out the \"faith is extremely important to me\" ? \n",
    "Motivation: Most said yes. Don't know if you'd see a larger difference in faith."
   ]
  },
  {
   "cell_type": "markdown",
   "metadata": {},
   "source": [
    "# Analyzing faith components\n",
    "Analyzing the faith components and their contribution to the overall faith score. \n",
    "<br>\n",
    "Motivation: Would like to answer the question as to which components (e.g., Y6=\"My faith is an important part of who I am as a person\") contribute to the overall sum of faith $y$:\n",
    "<br>\n",
    "$y = \\sum_{i=0}^n y_i$ \n",
    "<br>\n",
    "where there are 10 components (i.e.,, $n=10$)\n",
    "## Exploration of different techniques to reduce the dimensionality\n",
    "Both Principal component analysis (PCA: https://en.wikipedia.org/wiki/Principal_component_analysis) and Factor analysis (https://en.wikipedia.org/wiki/Factor_analysis) were considered. \n",
    "### Comparison / contrast between PCA and Factor analysis\n",
    "The second article had a comparison / contrast between the two.\n",
    "One section described the differences:\n",
    "\n",
    "1. PCA results in principal components that account for a maximal amount of variance for observed variables; FA account for common variance in the data.\n",
    "2. PCA inserts ones on the diagonals of the correlation matrix; FA adjusts the diagonals of the correlation matrix with the unique factors.\n",
    "3. PCA minimizes the sum of squared perpendicular distance to the component axis; FA estimates factors which influence responses on observed variables.\n",
    "4. The component scores in PCA represent a linear combination of the observed variables weighted by eigenvectors; the observed variables in FA are linear combinations of the underlying and unique factors.\n",
    "5. In PCA, the components yielded are uninterpretable, i.e. they do not represent underlying ‘constructs’; in FA, the underlying constructs can be labeled and readily interpreted, given an accurate model specification.\n",
    "<br>"
   ]
  },
  {
   "cell_type": "markdown",
   "metadata": {},
   "source": [
    "### PCA chosen; methodology\n",
    "The data scientist chose PCA because he was looking to maximize the variance (first difference); had no need for factors (third difference); and did not need interpretation of the components (last difference).\n",
    "<br>\n",
    "The faith components would be used, with the following restrictions. First, faith components would be scrutinized with PCA before the program (as opposed to both before and after the program). Second, faith component non-responses would be adjusted to the average of all responses, as described in previous section."
   ]
  },
  {
   "cell_type": "code",
   "execution_count": 19,
   "metadata": {},
   "outputs": [
    {
     "data": {
      "text/plain": [
       "Text(0,0.5,u'cumulative explained variance')"
      ]
     },
     "execution_count": 19,
     "metadata": {},
     "output_type": "execute_result"
    },
    {
     "data": {
      "image/png": "[encoded data removed]",
      "text/plain": [
       "<matplotlib.figure.Figure at 0x10581390>"
      ]
     },
     "metadata": {},
     "output_type": "display_data"
    }
   ],
   "source": [
    "from sklearn.preprocessing import StandardScaler\n",
    "from sklearn.decomposition import PCA\n",
    "import numpy as np\n",
    "_DeltaY = 'delta_Y'\n",
    "# Drop all but index, Y1...Y10, and Y\n",
    "colNames = raw_df.columns.tolist()\n",
    "\n",
    "colsToDrop = [col for col in colNames if not(col.startswith(_DeltaY) or col.startswith('Y'))]\n",
    "colsToDrop.extend('Y') # Don't need the sum (simply \"Y\") in the PCA.\n",
    "df4 = raw_df.drop(labels=colsToDrop, axis='columns', inplace=False) # or use raw_df.drop for Y both before and after survey\n",
    "df5 = df4.dropna(axis=0, subset=[_DeltaY], inplace=False) # Drop the NaN on the first row for delta_Y\n",
    "df5.head(15)\n",
    "# my_lib.write_df_to_excel(df=df4, excelFileName='faith.xlsx',excelWorksheet='faith response' )\n",
    "# Separate into features (i.e., Y1 .. Y10) and target (i.e., delta_Y)\n",
    "features = df5.columns.tolist()\n",
    "features.remove(_DeltaY)\n",
    "\n",
    "onlyYs = df5.loc[:, features].values\n",
    "# Must standardize to mean = 0 and variance = 1\n",
    "onlyYs = StandardScaler().fit_transform(onlyYs)\n",
    "# print (onlyYs)\n",
    "target = df5.loc[:,[_DeltaY]].values\n",
    "# How many PCA Components are needed?\n",
    "pca = PCA().fit(onlyYs)\n",
    "plt.plot(np.cumsum(pca.explained_variance_ratio_))\n",
    "plt.xlabel('Number of components')\n",
    "plt.ylabel('cumulative explained variance')"
   ]
  },
  {
   "cell_type": "code",
   "execution_count": 21,
   "metadata": {
    "scrolled": false
   },
   "outputs": [
    {
     "ename": "ValueError",
     "evalue": "Shape of passed values is (5, 45), indices imply (2, 45)",
     "output_type": "error",
     "traceback": [
      "\u001b[1;31m---------------------------------------------------------------------------\u001b[0m",
      "\u001b[1;31mValueError\u001b[0m                                Traceback (most recent call last)",
      "\u001b[1;32m<ipython-input-21-a36372a3997c>\u001b[0m in \u001b[0;36m<module>\u001b[1;34m()\u001b[0m\n\u001b[0;32m      2\u001b[0m \u001b[0mpca\u001b[0m \u001b[1;33m=\u001b[0m \u001b[0mPCA\u001b[0m\u001b[1;33m(\u001b[0m\u001b[0mn_components\u001b[0m\u001b[1;33m=\u001b[0m\u001b[1;36m5\u001b[0m\u001b[1;33m)\u001b[0m\u001b[1;33m\u001b[0m\u001b[0m\n\u001b[0;32m      3\u001b[0m \u001b[0mprincipalComponents\u001b[0m \u001b[1;33m=\u001b[0m \u001b[0mpca\u001b[0m\u001b[1;33m.\u001b[0m\u001b[0mfit_transform\u001b[0m\u001b[1;33m(\u001b[0m\u001b[0monlyYs\u001b[0m\u001b[1;33m)\u001b[0m\u001b[1;33m\u001b[0m\u001b[0m\n\u001b[1;32m----> 4\u001b[1;33m \u001b[0mprincipalDf\u001b[0m \u001b[1;33m=\u001b[0m \u001b[0mpd\u001b[0m\u001b[1;33m.\u001b[0m\u001b[0mDataFrame\u001b[0m\u001b[1;33m(\u001b[0m\u001b[0mdata\u001b[0m \u001b[1;33m=\u001b[0m \u001b[0mprincipalComponents\u001b[0m\u001b[1;33m,\u001b[0m \u001b[0mcolumns\u001b[0m \u001b[1;33m=\u001b[0m \u001b[1;33m[\u001b[0m\u001b[1;34m'PrincComp1'\u001b[0m\u001b[1;33m,\u001b[0m \u001b[1;34m'PrincComp2'\u001b[0m\u001b[1;33m]\u001b[0m\u001b[1;33m)\u001b[0m\u001b[1;33m\u001b[0m\u001b[0m\n\u001b[0m\u001b[0;32m      5\u001b[0m \u001b[1;33m\u001b[0m\u001b[0m\n\u001b[0;32m      6\u001b[0m \u001b[0mpca_explained\u001b[0m \u001b[1;33m=\u001b[0m \u001b[0mpca\u001b[0m\u001b[1;33m.\u001b[0m\u001b[0mexplained_variance_ratio_\u001b[0m\u001b[1;33m\u001b[0m\u001b[0m\n",
      "\u001b[1;32mC:\\Users\\Owner\\Anaconda2\\lib\\site-packages\\pandas\\core\\frame.pyc\u001b[0m in \u001b[0;36m__init__\u001b[1;34m(self, data, index, columns, dtype, copy)\u001b[0m\n\u001b[0;32m    359\u001b[0m             \u001b[1;32melse\u001b[0m\u001b[1;33m:\u001b[0m\u001b[1;33m\u001b[0m\u001b[0m\n\u001b[0;32m    360\u001b[0m                 mgr = self._init_ndarray(data, index, columns, dtype=dtype,\n\u001b[1;32m--> 361\u001b[1;33m                                          copy=copy)\n\u001b[0m\u001b[0;32m    362\u001b[0m         \u001b[1;32melif\u001b[0m \u001b[0misinstance\u001b[0m\u001b[1;33m(\u001b[0m\u001b[0mdata\u001b[0m\u001b[1;33m,\u001b[0m \u001b[1;33m(\u001b[0m\u001b[0mlist\u001b[0m\u001b[1;33m,\u001b[0m \u001b[0mtypes\u001b[0m\u001b[1;33m.\u001b[0m\u001b[0mGeneratorType\u001b[0m\u001b[1;33m)\u001b[0m\u001b[1;33m)\u001b[0m\u001b[1;33m:\u001b[0m\u001b[1;33m\u001b[0m\u001b[0m\n\u001b[0;32m    363\u001b[0m             \u001b[1;32mif\u001b[0m \u001b[0misinstance\u001b[0m\u001b[1;33m(\u001b[0m\u001b[0mdata\u001b[0m\u001b[1;33m,\u001b[0m \u001b[0mtypes\u001b[0m\u001b[1;33m.\u001b[0m\u001b[0mGeneratorType\u001b[0m\u001b[1;33m)\u001b[0m\u001b[1;33m:\u001b[0m\u001b[1;33m\u001b[0m\u001b[0m\n",
      "\u001b[1;32mC:\\Users\\Owner\\Anaconda2\\lib\\site-packages\\pandas\\core\\frame.pyc\u001b[0m in \u001b[0;36m_init_ndarray\u001b[1;34m(self, values, index, columns, dtype, copy)\u001b[0m\n\u001b[0;32m    531\u001b[0m             \u001b[0mvalues\u001b[0m \u001b[1;33m=\u001b[0m \u001b[0mmaybe_infer_to_datetimelike\u001b[0m\u001b[1;33m(\u001b[0m\u001b[0mvalues\u001b[0m\u001b[1;33m)\u001b[0m\u001b[1;33m\u001b[0m\u001b[0m\n\u001b[0;32m    532\u001b[0m \u001b[1;33m\u001b[0m\u001b[0m\n\u001b[1;32m--> 533\u001b[1;33m         \u001b[1;32mreturn\u001b[0m \u001b[0mcreate_block_manager_from_blocks\u001b[0m\u001b[1;33m(\u001b[0m\u001b[1;33m[\u001b[0m\u001b[0mvalues\u001b[0m\u001b[1;33m]\u001b[0m\u001b[1;33m,\u001b[0m \u001b[1;33m[\u001b[0m\u001b[0mcolumns\u001b[0m\u001b[1;33m,\u001b[0m \u001b[0mindex\u001b[0m\u001b[1;33m]\u001b[0m\u001b[1;33m)\u001b[0m\u001b[1;33m\u001b[0m\u001b[0m\n\u001b[0m\u001b[0;32m    534\u001b[0m \u001b[1;33m\u001b[0m\u001b[0m\n\u001b[0;32m    535\u001b[0m     \u001b[1;33m@\u001b[0m\u001b[0mproperty\u001b[0m\u001b[1;33m\u001b[0m\u001b[0m\n",
      "\u001b[1;32mC:\\Users\\Owner\\Anaconda2\\lib\\site-packages\\pandas\\core\\internals.pyc\u001b[0m in \u001b[0;36mcreate_block_manager_from_blocks\u001b[1;34m(blocks, axes)\u001b[0m\n\u001b[0;32m   4629\u001b[0m         \u001b[0mblocks\u001b[0m \u001b[1;33m=\u001b[0m \u001b[1;33m[\u001b[0m\u001b[0mgetattr\u001b[0m\u001b[1;33m(\u001b[0m\u001b[0mb\u001b[0m\u001b[1;33m,\u001b[0m \u001b[1;34m'values'\u001b[0m\u001b[1;33m,\u001b[0m \u001b[0mb\u001b[0m\u001b[1;33m)\u001b[0m \u001b[1;32mfor\u001b[0m \u001b[0mb\u001b[0m \u001b[1;32min\u001b[0m \u001b[0mblocks\u001b[0m\u001b[1;33m]\u001b[0m\u001b[1;33m\u001b[0m\u001b[0m\n\u001b[0;32m   4630\u001b[0m         \u001b[0mtot_items\u001b[0m \u001b[1;33m=\u001b[0m \u001b[0msum\u001b[0m\u001b[1;33m(\u001b[0m\u001b[0mb\u001b[0m\u001b[1;33m.\u001b[0m\u001b[0mshape\u001b[0m\u001b[1;33m[\u001b[0m\u001b[1;36m0\u001b[0m\u001b[1;33m]\u001b[0m \u001b[1;32mfor\u001b[0m \u001b[0mb\u001b[0m \u001b[1;32min\u001b[0m \u001b[0mblocks\u001b[0m\u001b[1;33m)\u001b[0m\u001b[1;33m\u001b[0m\u001b[0m\n\u001b[1;32m-> 4631\u001b[1;33m         \u001b[0mconstruction_error\u001b[0m\u001b[1;33m(\u001b[0m\u001b[0mtot_items\u001b[0m\u001b[1;33m,\u001b[0m \u001b[0mblocks\u001b[0m\u001b[1;33m[\u001b[0m\u001b[1;36m0\u001b[0m\u001b[1;33m]\u001b[0m\u001b[1;33m.\u001b[0m\u001b[0mshape\u001b[0m\u001b[1;33m[\u001b[0m\u001b[1;36m1\u001b[0m\u001b[1;33m:\u001b[0m\u001b[1;33m]\u001b[0m\u001b[1;33m,\u001b[0m \u001b[0maxes\u001b[0m\u001b[1;33m,\u001b[0m \u001b[0me\u001b[0m\u001b[1;33m)\u001b[0m\u001b[1;33m\u001b[0m\u001b[0m\n\u001b[0m\u001b[0;32m   4632\u001b[0m \u001b[1;33m\u001b[0m\u001b[0m\n\u001b[0;32m   4633\u001b[0m \u001b[1;33m\u001b[0m\u001b[0m\n",
      "\u001b[1;32mC:\\Users\\Owner\\Anaconda2\\lib\\site-packages\\pandas\\core\\internals.pyc\u001b[0m in \u001b[0;36mconstruction_error\u001b[1;34m(tot_items, block_shape, axes, e)\u001b[0m\n\u001b[0;32m   4606\u001b[0m         \u001b[1;32mraise\u001b[0m \u001b[0mValueError\u001b[0m\u001b[1;33m(\u001b[0m\u001b[1;34m\"Empty data passed with indices specified.\"\u001b[0m\u001b[1;33m)\u001b[0m\u001b[1;33m\u001b[0m\u001b[0m\n\u001b[0;32m   4607\u001b[0m     raise ValueError(\"Shape of passed values is {0}, indices imply {1}\".format(\n\u001b[1;32m-> 4608\u001b[1;33m         passed, implied))\n\u001b[0m\u001b[0;32m   4609\u001b[0m \u001b[1;33m\u001b[0m\u001b[0m\n\u001b[0;32m   4610\u001b[0m \u001b[1;33m\u001b[0m\u001b[0m\n",
      "\u001b[1;31mValueError\u001b[0m: Shape of passed values is (5, 45), indices imply (2, 45)"
     ]
    }
   ],
   "source": [
    "# print (target)\n",
    "pca = PCA(n_components=5)\n",
    "principalComponents = pca.fit_transform(onlyYs)\n",
    "principalDf = pd.DataFrame(data = principalComponents, columns = ['PrincComp1', 'PrincComp2', 'PrincComp3', 'PrincComp4', 'PrincComp5'])\n",
    "\n",
    "pca_explained = pca.explained_variance_ratio_\n",
    "logger.info('PCA explained ratio: ' + str(pca_explained))\n",
    "# Using the df2 dataframe as a basis (and adding the principleDf to it.)\n",
    "n = df2.shape[1]\n",
    "pcaDf = pd.concat([df2, principalDf],axis=1)\n",
    "pcaDf.head()\n",
    "logger.info('X=change in PTSD; Y=Principal Component 1. n=' + str(n))\n",
    "stat.plot_and_stats(df=pcaDf, xlabel='delta_X', ylabel='PrincComp1', color='r')"
   ]
  }
 ],
 "metadata": {
  "kernelspec": {
   "display_name": "Python 2",
   "language": "python",
   "name": "python2"
  },
  "language_info": {
   "codemirror_mode": {
    "name": "ipython",
    "version": 2
   },
   "file_extension": ".py",
   "mimetype": "text/x-python",
   "name": "python",
   "nbconvert_exporter": "python",
   "pygments_lexer": "ipython2",
   "version": "2.7.14"
  }
 },
 "nbformat": 4,
 "nbformat_minor": 2
}
